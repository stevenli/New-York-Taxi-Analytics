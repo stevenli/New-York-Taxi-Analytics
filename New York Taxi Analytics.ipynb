{
 "cells": [
  {
   "cell_type": "markdown",
   "metadata": {
    "collapsed": true
   },
   "source": [
    "# NY Taxi Rides Analytics"
   ]
  },
  {
   "cell_type": "markdown",
   "metadata": {},
   "source": [
    "## First part analysis is based on nyc_data.csv"
   ]
  },
  {
   "cell_type": "code",
   "execution_count": 1,
   "metadata": {},
   "outputs": [],
   "source": [
    "import numpy as np \n",
    "import pandas as pd \n",
    "import matplotlib.pyplot as plt \n",
    "import seaborn as sns\n",
    "%matplotlib inline"
   ]
  },
  {
   "cell_type": "code",
   "execution_count": 2,
   "metadata": {},
   "outputs": [],
   "source": [
    "# Data path\n",
    "data_filename = r\"C:\\Users\\sheng\\OneDrive\\Desktop\\nyc_data.csv\""
   ]
  },
  {
   "cell_type": "code",
   "execution_count": 3,
   "metadata": {},
   "outputs": [],
   "source": [
    "# Read dataset\n",
    "data = pd.read_csv(data_filename, parse_dates=['pickup_datetime', 'dropoff_datetime'] )"
   ]
  },
  {
   "cell_type": "code",
   "execution_count": 4,
   "metadata": {
    "scrolled": false
   },
   "outputs": [
    {
     "data": {
      "text/html": [
       "<div>\n",
       "<style scoped>\n",
       "    .dataframe tbody tr th:only-of-type {\n",
       "        vertical-align: middle;\n",
       "    }\n",
       "\n",
       "    .dataframe tbody tr th {\n",
       "        vertical-align: top;\n",
       "    }\n",
       "\n",
       "    .dataframe thead th {\n",
       "        text-align: right;\n",
       "    }\n",
       "</style>\n",
       "<table border=\"1\" class=\"dataframe\">\n",
       "  <thead>\n",
       "    <tr style=\"text-align: right;\">\n",
       "      <th></th>\n",
       "      <th>medallion</th>\n",
       "      <th>hack_license</th>\n",
       "      <th>vendor_id</th>\n",
       "      <th>rate_code</th>\n",
       "      <th>store_and_fwd_flag</th>\n",
       "      <th>pickup_datetime</th>\n",
       "      <th>dropoff_datetime</th>\n",
       "      <th>passenger_count</th>\n",
       "      <th>trip_time_in_secs</th>\n",
       "      <th>trip_distance</th>\n",
       "      <th>pickup_longitude</th>\n",
       "      <th>pickup_latitude</th>\n",
       "      <th>dropoff_longitude</th>\n",
       "      <th>dropoff_latitude</th>\n",
       "    </tr>\n",
       "  </thead>\n",
       "  <tbody>\n",
       "    <tr>\n",
       "      <td>0</td>\n",
       "      <td>76942C3205E17D7E7FE5A9F709D16434</td>\n",
       "      <td>25BA06A87905667AA1FE5990E33F0E2E</td>\n",
       "      <td>VTS</td>\n",
       "      <td>1</td>\n",
       "      <td>NaN</td>\n",
       "      <td>2013-01-01 00:00:00</td>\n",
       "      <td>2013-01-01 00:05:00</td>\n",
       "      <td>3</td>\n",
       "      <td>300</td>\n",
       "      <td>0.61</td>\n",
       "      <td>-73.955925</td>\n",
       "      <td>40.781887</td>\n",
       "      <td>-73.963181</td>\n",
       "      <td>40.777832</td>\n",
       "    </tr>\n",
       "    <tr>\n",
       "      <td>1</td>\n",
       "      <td>517C6B330DBB3F055D007B07512628B3</td>\n",
       "      <td>2C19FBEE1A6E05612EFE4C958C14BC7F</td>\n",
       "      <td>VTS</td>\n",
       "      <td>1</td>\n",
       "      <td>NaN</td>\n",
       "      <td>2013-01-01 00:05:00</td>\n",
       "      <td>2013-01-01 00:21:00</td>\n",
       "      <td>1</td>\n",
       "      <td>960</td>\n",
       "      <td>3.28</td>\n",
       "      <td>-74.005501</td>\n",
       "      <td>40.745735</td>\n",
       "      <td>-73.964943</td>\n",
       "      <td>40.755722</td>\n",
       "    </tr>\n",
       "    <tr>\n",
       "      <td>2</td>\n",
       "      <td>ED15611F168E41B33619C83D900FE266</td>\n",
       "      <td>754AEBD7C80DA17BA1D81D89FB6F4D1D</td>\n",
       "      <td>CMT</td>\n",
       "      <td>1</td>\n",
       "      <td>N</td>\n",
       "      <td>2013-01-01 00:05:00</td>\n",
       "      <td>2013-01-01 00:12:00</td>\n",
       "      <td>1</td>\n",
       "      <td>386</td>\n",
       "      <td>1.50</td>\n",
       "      <td>-73.969955</td>\n",
       "      <td>40.799770</td>\n",
       "      <td>-73.954567</td>\n",
       "      <td>40.787392</td>\n",
       "    </tr>\n",
       "    <tr>\n",
       "      <td>3</td>\n",
       "      <td>B33E704CC189E80C9671230C16527BBC</td>\n",
       "      <td>6789C77E1CBDC850C450D72204702976</td>\n",
       "      <td>VTS</td>\n",
       "      <td>1</td>\n",
       "      <td>NaN</td>\n",
       "      <td>2013-01-01 00:06:00</td>\n",
       "      <td>2013-01-01 00:06:00</td>\n",
       "      <td>6</td>\n",
       "      <td>0</td>\n",
       "      <td>0.00</td>\n",
       "      <td>-73.991432</td>\n",
       "      <td>40.755081</td>\n",
       "      <td>-73.991417</td>\n",
       "      <td>40.755085</td>\n",
       "    </tr>\n",
       "    <tr>\n",
       "      <td>4</td>\n",
       "      <td>BD5CC6A22D05EB2D5C8235526A2A4276</td>\n",
       "      <td>5E8F2C93B5220A922699FEBAFC2F7A54</td>\n",
       "      <td>VTS</td>\n",
       "      <td>1</td>\n",
       "      <td>NaN</td>\n",
       "      <td>2013-01-01 00:06:00</td>\n",
       "      <td>2013-01-01 00:12:00</td>\n",
       "      <td>2</td>\n",
       "      <td>360</td>\n",
       "      <td>1.31</td>\n",
       "      <td>-73.966225</td>\n",
       "      <td>40.773716</td>\n",
       "      <td>-73.955399</td>\n",
       "      <td>40.782597</td>\n",
       "    </tr>\n",
       "  </tbody>\n",
       "</table>\n",
       "</div>"
      ],
      "text/plain": [
       "                          medallion                      hack_license  \\\n",
       "0  76942C3205E17D7E7FE5A9F709D16434  25BA06A87905667AA1FE5990E33F0E2E   \n",
       "1  517C6B330DBB3F055D007B07512628B3  2C19FBEE1A6E05612EFE4C958C14BC7F   \n",
       "2  ED15611F168E41B33619C83D900FE266  754AEBD7C80DA17BA1D81D89FB6F4D1D   \n",
       "3  B33E704CC189E80C9671230C16527BBC  6789C77E1CBDC850C450D72204702976   \n",
       "4  BD5CC6A22D05EB2D5C8235526A2A4276  5E8F2C93B5220A922699FEBAFC2F7A54   \n",
       "\n",
       "  vendor_id  rate_code store_and_fwd_flag     pickup_datetime  \\\n",
       "0       VTS          1                NaN 2013-01-01 00:00:00   \n",
       "1       VTS          1                NaN 2013-01-01 00:05:00   \n",
       "2       CMT          1                  N 2013-01-01 00:05:00   \n",
       "3       VTS          1                NaN 2013-01-01 00:06:00   \n",
       "4       VTS          1                NaN 2013-01-01 00:06:00   \n",
       "\n",
       "     dropoff_datetime  passenger_count  trip_time_in_secs  trip_distance  \\\n",
       "0 2013-01-01 00:05:00                3                300           0.61   \n",
       "1 2013-01-01 00:21:00                1                960           3.28   \n",
       "2 2013-01-01 00:12:00                1                386           1.50   \n",
       "3 2013-01-01 00:06:00                6                  0           0.00   \n",
       "4 2013-01-01 00:12:00                2                360           1.31   \n",
       "\n",
       "   pickup_longitude  pickup_latitude  dropoff_longitude  dropoff_latitude  \n",
       "0        -73.955925        40.781887         -73.963181         40.777832  \n",
       "1        -74.005501        40.745735         -73.964943         40.755722  \n",
       "2        -73.969955        40.799770         -73.954567         40.787392  \n",
       "3        -73.991432        40.755081         -73.991417         40.755085  \n",
       "4        -73.966225        40.773716         -73.955399         40.782597  "
      ]
     },
     "execution_count": 4,
     "metadata": {},
     "output_type": "execute_result"
    }
   ],
   "source": [
    "data.head()"
   ]
  },
  {
   "cell_type": "markdown",
   "metadata": {},
   "source": [
    "## Data type, name and frequencies"
   ]
  },
  {
   "cell_type": "code",
   "execution_count": 5,
   "metadata": {},
   "outputs": [
    {
     "data": {
      "text/plain": [
       "['medallion',\n",
       " 'hack_license',\n",
       " 'vendor_id',\n",
       " 'rate_code',\n",
       " 'store_and_fwd_flag',\n",
       " 'pickup_datetime',\n",
       " 'dropoff_datetime',\n",
       " 'passenger_count',\n",
       " 'trip_time_in_secs',\n",
       " 'trip_distance',\n",
       " 'pickup_longitude',\n",
       " 'pickup_latitude',\n",
       " 'dropoff_longitude',\n",
       " 'dropoff_latitude']"
      ]
     },
     "execution_count": 5,
     "metadata": {},
     "output_type": "execute_result"
    }
   ],
   "source": [
    "# Display column names\n",
    "list(data.columns.values)"
   ]
  },
  {
   "cell_type": "code",
   "execution_count": 9,
   "metadata": {},
   "outputs": [
    {
     "data": {
      "text/plain": [
       "846945"
      ]
     },
     "execution_count": 9,
     "metadata": {},
     "output_type": "execute_result"
    }
   ],
   "source": [
    "# Display number of rows\n",
    "count_row = data.shape[0] \n",
    "count_row"
   ]
  },
  {
   "cell_type": "code",
   "execution_count": 10,
   "metadata": {},
   "outputs": [
    {
     "name": "stdout",
     "output_type": "stream",
     "text": [
      "medallion                     object\n",
      "hack_license                  object\n",
      "vendor_id                     object\n",
      "rate_code                      int64\n",
      "store_and_fwd_flag            object\n",
      "pickup_datetime       datetime64[ns]\n",
      "dropoff_datetime      datetime64[ns]\n",
      "passenger_count                int64\n",
      "trip_time_in_secs              int64\n",
      "trip_distance                float64\n",
      "pickup_longitude             float64\n",
      "pickup_latitude              float64\n",
      "dropoff_longitude            float64\n",
      "dropoff_latitude             float64\n",
      "dtype: object\n"
     ]
    }
   ],
   "source": [
    "# Display data type for each variable\n",
    "print(data.dtypes)"
   ]
  },
  {
   "cell_type": "code",
   "execution_count": 11,
   "metadata": {},
   "outputs": [
    {
     "data": {
      "text/plain": [
       "E8260A241D62ECC156ECB8AD607E1E6B    125\n",
       "20BA941F62CC07F1FA3EF3E122B1E9B2    125\n",
       "22D1934CF861B8BE43F10FBAD93FEF69    121\n",
       "D30BED60331C79E3F7ACD05B325ED42F    118\n",
       "A0DEAEC3D5592AE94B876356F12F8158    118\n",
       "                                   ... \n",
       "937A41116FCDEBA535FC3FA0B2965043      1\n",
       "3B560B5B338526D38E1EB0B2E0027463      1\n",
       "476657049B62401D5EB59CEF8C6F2FC1      1\n",
       "1F5D2DEFB597C51BC202FD77ED94902B      1\n",
       "C307D72945A061AF8E32B1BB708F446B      1\n",
       "Name: medallion, Length: 13446, dtype: int64"
      ]
     },
     "execution_count": 11,
     "metadata": {},
     "output_type": "execute_result"
    }
   ],
   "source": [
    "# Display object variable frequencies for variable 'medallion'\n",
    "data['medallion'].value_counts()"
   ]
  },
  {
   "cell_type": "code",
   "execution_count": 12,
   "metadata": {},
   "outputs": [
    {
     "data": {
      "text/plain": [
       "03173DD93C1171DA1788E6E7D733C5A9    97\n",
       "23DF80C977D15141F11DD713C523C311    88\n",
       "51C1BE97280A80EBFA8DAD34E1956CF6    78\n",
       "3D757E111C78F5CAC83D44A92885D490    78\n",
       "19B3F3F825E4C1DE13B9D5C0628F5001    77\n",
       "                                    ..\n",
       "236BB4C8D951D35BA041D86774AC1BD1     1\n",
       "C01D892AAFF7642EC4AD094D18AF8805     1\n",
       "5559ACA39EB3C37E449731790E37AED7     1\n",
       "9D3EF01E386FA4FBC332F1AE803FDE07     1\n",
       "20DE61E8208E5C7BDC13F4C79D2A4434     1\n",
       "Name: hack_license, Length: 38391, dtype: int64"
      ]
     },
     "execution_count": 12,
     "metadata": {},
     "output_type": "execute_result"
    }
   ],
   "source": [
    "# Display object variable frequencies for variable 'hack_license'\n",
    "data['hack_license'].value_counts()"
   ]
  },
  {
   "cell_type": "code",
   "execution_count": 13,
   "metadata": {},
   "outputs": [
    {
     "data": {
      "text/plain": [
       "CMT    424678\n",
       "VTS    422267\n",
       "Name: vendor_id, dtype: int64"
      ]
     },
     "execution_count": 13,
     "metadata": {},
     "output_type": "execute_result"
    }
   ],
   "source": [
    "# Display object variable frequencies for variable 'vendor_id'\n",
    "data['vendor_id'].value_counts()"
   ]
  },
  {
   "cell_type": "code",
   "execution_count": 14,
   "metadata": {},
   "outputs": [
    {
     "data": {
      "text/plain": [
       "N    414599\n",
       "Y      9978\n",
       "Name: store_and_fwd_flag, dtype: int64"
      ]
     },
     "execution_count": 14,
     "metadata": {},
     "output_type": "execute_result"
    }
   ],
   "source": [
    "# Display object variable frequencies for variable 'store_and_fwd_flag'\n",
    "data['store_and_fwd_flag'].value_counts()"
   ]
  },
  {
   "cell_type": "code",
   "execution_count": 15,
   "metadata": {},
   "outputs": [
    {
     "data": {
      "text/plain": [
       "count     846945.00\n",
       "mean           9.96\n",
       "std         6525.20\n",
       "min            0.00\n",
       "25%            1.05\n",
       "50%            1.80\n",
       "75%            3.20\n",
       "max      6005123.00\n",
       "Name: trip_distance, dtype: object"
      ]
     },
     "execution_count": 15,
     "metadata": {},
     "output_type": "execute_result"
    }
   ],
   "source": [
    "# Apply lambda function to explore numeric statistics for variable 'trip_distance'\n",
    "data['trip_distance'].describe().apply(lambda x: format(x, '.2f'))"
   ]
  },
  {
   "cell_type": "code",
   "execution_count": 16,
   "metadata": {},
   "outputs": [
    {
     "data": {
      "text/plain": [
       "count    846945.00\n",
       "mean          1.71\n",
       "std           1.38\n",
       "min           0.00\n",
       "25%           1.00\n",
       "50%           1.00\n",
       "75%           2.00\n",
       "max           6.00\n",
       "Name: passenger_count, dtype: object"
      ]
     },
     "execution_count": 16,
     "metadata": {},
     "output_type": "execute_result"
    }
   ],
   "source": [
    "# Apply lambda function to explore numeric statistics for variable 'passenger_count'\n",
    "data['passenger_count'].describe().apply(lambda x: format(x, '.2f'))"
   ]
  },
  {
   "cell_type": "code",
   "execution_count": 17,
   "metadata": {},
   "outputs": [
    {
     "data": {
      "text/plain": [
       "count     846945.00\n",
       "mean         812.52\n",
       "std        16098.31\n",
       "min          -10.00\n",
       "25%          361.00\n",
       "50%          600.00\n",
       "75%          960.00\n",
       "max      4294796.00\n",
       "Name: trip_time_in_secs, dtype: object"
      ]
     },
     "execution_count": 17,
     "metadata": {},
     "output_type": "execute_result"
    }
   ],
   "source": [
    "# Apply lambda function to explore numeric statistics for variable 'trip_time_in_secs'\n",
    "data['trip_time_in_secs'].describe().apply(lambda x: format(x, '.2f'))"
   ]
  },
  {
   "cell_type": "code",
   "execution_count": 18,
   "metadata": {},
   "outputs": [],
   "source": [
    "p_lng = data.pickup_longitude\n",
    "p_lat = data.pickup_latitude\n",
    "d_lng = data.dropoff_longitude\n",
    "d_lat = data.dropoff_latitude"
   ]
  },
  {
   "cell_type": "code",
   "execution_count": 19,
   "metadata": {},
   "outputs": [
    {
     "data": {
      "text/plain": [
       "0   -73.955925\n",
       "1   -74.005501\n",
       "2   -73.969955\n",
       "3   -73.991432\n",
       "4   -73.966225\n",
       "Name: pickup_longitude, dtype: float64"
      ]
     },
     "execution_count": 19,
     "metadata": {},
     "output_type": "execute_result"
    }
   ],
   "source": [
    "# a Series is an indexed list of values.\n",
    "p_lng.head()"
   ]
  },
  {
   "cell_type": "code",
   "execution_count": 20,
   "metadata": {},
   "outputs": [],
   "source": [
    "# Get the coordinates of points in pixels from geographical coordinates.\n",
    "def lat_lng_to_pixels(lat, lng):\n",
    "    lat_rad = lat * np.pi / 180.0\n",
    "    lat_rad = np.log(np.tan((lat_rad + np.pi / 2.0) / 2.0))\n",
    "    x = 100 * (lng + 180.0) / 360.0\n",
    "    y = 100 * (lat_rad - np.pi) / (2.0 * np.pi)\n",
    "    return (x, y)"
   ]
  },
  {
   "cell_type": "code",
   "execution_count": 21,
   "metadata": {},
   "outputs": [
    {
     "data": {
      "text/plain": [
       "0   -37.572749\n",
       "1   -37.586007\n",
       "2   -37.566187\n",
       "3   -37.582580\n",
       "4   -37.575746\n",
       "Name: pickup_latitude, dtype: float64"
      ]
     },
     "execution_count": 21,
     "metadata": {},
     "output_type": "execute_result"
    }
   ],
   "source": [
    "# Get pickup coordinates from pickup latitude and longitude\n",
    "px, py = lat_lng_to_pixels(p_lat, p_lng)\n",
    "py.head()"
   ]
  },
  {
   "cell_type": "markdown",
   "metadata": {},
   "source": [
    "## Display a scatter plot of pickup locations and updated scatter plot group by vendor_id."
   ]
  },
  {
   "cell_type": "code",
   "execution_count": 22,
   "metadata": {},
   "outputs": [
    {
     "data": {
      "text/plain": [
       "<matplotlib.collections.PathCollection at 0x19ec30e9308>"
      ]
     },
     "execution_count": 22,
     "metadata": {},
     "output_type": "execute_result"
    },
    {
     "data": {
      "image/png": "[encoded data removed]",
      "text/plain": [
       "<Figure size 432x288 with 1 Axes>"
      ]
     },
     "metadata": {
      "needs_background": "light"
     },
     "output_type": "display_data"
    }
   ],
   "source": [
    "plt.scatter(px, py)"
   ]
  },
  {
   "cell_type": "code",
   "execution_count": 23,
   "metadata": {},
   "outputs": [
    {
     "data": {
      "text/plain": [
       "<matplotlib.axes._subplots.AxesSubplot at 0x19ec2d732c8>"
      ]
     },
     "execution_count": 23,
     "metadata": {},
     "output_type": "execute_result"
    },
    {
     "data": {
      "image/png": "[encoded data removed]",
      "text/plain": [
       "<Figure size 432x288 with 1 Axes>"
      ]
     },
     "metadata": {
      "needs_background": "light"
     },
     "output_type": "display_data"
    }
   ],
   "source": [
    "g =sns.scatterplot(px, py, hue=\"vendor_id\", data=data)\n",
    "g.set(xscale=\"log\")\n",
    "g"
   ]
  },
  {
   "cell_type": "code",
   "execution_count": 24,
   "metadata": {},
   "outputs": [],
   "source": [
    "# By assigning different color on vendor_id, I found CMT has more intensive and wild geographic areas within NY, \n",
    "#so there is a bigger possibility to get a cab that is owned by CMT."
   ]
  },
  {
   "cell_type": "code",
   "execution_count": 25,
   "metadata": {},
   "outputs": [
    {
     "data": {
      "text/plain": [
       "(29.4, 29.55, -37.63, -37.54)"
      ]
     },
     "execution_count": 25,
     "metadata": {},
     "output_type": "execute_result"
    },
    {
     "data": {
      "image/png": "[encoded data removed]",
      "text/plain": [
       "<Figure size 576x432 with 1 Axes>"
      ]
     },
     "metadata": {
      "needs_background": "light"
     },
     "output_type": "display_data"
    }
   ],
   "source": [
    "# Specify the figure size\n",
    "plt.figure(figsize=(8, 6))\n",
    "# s argument is used to make the marker size smaller\n",
    "# alpha specifies opacity\n",
    "plt.scatter(px, py, s=.1, alpha=0.03)\n",
    "# equal aspect ratio\n",
    "plt.axis('equal')\n",
    "# zoom in\n",
    "plt.xlim(29.40, 29.55)\n",
    "plt.ylim(-37.63, -37.54)\n",
    "# remove the axes\n",
    "plt.axis('off')"
   ]
  },
  {
   "cell_type": "markdown",
   "metadata": {},
   "source": [
    "## Display a histogram of the trip distances."
   ]
  },
  {
   "cell_type": "code",
   "execution_count": 26,
   "metadata": {},
   "outputs": [
    {
     "data": {
      "text/plain": [
       "array([ 0.        ,  0.1010101 ,  0.2020202 ,  0.3030303 ,  0.4040404 ,\n",
       "        0.50505051,  0.60606061,  0.70707071,  0.80808081,  0.90909091,\n",
       "        1.01010101,  1.11111111,  1.21212121,  1.31313131,  1.41414141,\n",
       "        1.51515152,  1.61616162,  1.71717172,  1.81818182,  1.91919192,\n",
       "        2.02020202,  2.12121212,  2.22222222,  2.32323232,  2.42424242,\n",
       "        2.52525253,  2.62626263,  2.72727273,  2.82828283,  2.92929293,\n",
       "        3.03030303,  3.13131313,  3.23232323,  3.33333333,  3.43434343,\n",
       "        3.53535354,  3.63636364,  3.73737374,  3.83838384,  3.93939394,\n",
       "        4.04040404,  4.14141414,  4.24242424,  4.34343434,  4.44444444,\n",
       "        4.54545455,  4.64646465,  4.74747475,  4.84848485,  4.94949495,\n",
       "        5.05050505,  5.15151515,  5.25252525,  5.35353535,  5.45454545,\n",
       "        5.55555556,  5.65656566,  5.75757576,  5.85858586,  5.95959596,\n",
       "        6.06060606,  6.16161616,  6.26262626,  6.36363636,  6.46464646,\n",
       "        6.56565657,  6.66666667,  6.76767677,  6.86868687,  6.96969697,\n",
       "        7.07070707,  7.17171717,  7.27272727,  7.37373737,  7.47474747,\n",
       "        7.57575758,  7.67676768,  7.77777778,  7.87878788,  7.97979798,\n",
       "        8.08080808,  8.18181818,  8.28282828,  8.38383838,  8.48484848,\n",
       "        8.58585859,  8.68686869,  8.78787879,  8.88888889,  8.98989899,\n",
       "        9.09090909,  9.19191919,  9.29292929,  9.39393939,  9.49494949,\n",
       "        9.5959596 ,  9.6969697 ,  9.7979798 ,  9.8989899 , 10.        ])"
      ]
     },
     "execution_count": 26,
     "metadata": {},
     "output_type": "execute_result"
    }
   ],
   "source": [
    "bin_array = np.linspace(start=0., stop=10., num=100)\n",
    "bin_array"
   ]
  },
  {
   "cell_type": "code",
   "execution_count": 27,
   "metadata": {},
   "outputs": [
    {
     "data": {
      "text/plain": [
       "<matplotlib.axes._subplots.AxesSubplot at 0x19eccf9a1c8>"
      ]
     },
     "execution_count": 27,
     "metadata": {},
     "output_type": "execute_result"
    },
    {
     "data": {
      "image/png": "[encoded data removed]",
      "text/plain": [
       "<Figure size 432x288 with 1 Axes>"
      ]
     },
     "metadata": {
      "needs_background": "light"
     },
     "output_type": "display_data"
    }
   ],
   "source": [
    "data.trip_distance.hist(bins=bin_array)"
   ]
  },
  {
   "cell_type": "code",
   "execution_count": 28,
   "metadata": {},
   "outputs": [
    {
     "data": {
      "text/plain": [
       "466645"
      ]
     },
     "execution_count": 28,
     "metadata": {},
     "output_type": "execute_result"
    }
   ],
   "source": [
    "# Extract data from 0-2 to analyze main histogram mass\n",
    "data2=data[['trip_distance']][(data['trip_distance']>=0)&(data['trip_distance']<2)]\n",
    "len(data2)"
   ]
  },
  {
   "cell_type": "code",
   "execution_count": 29,
   "metadata": {},
   "outputs": [
    {
     "data": {
      "text/plain": [
       "0.02       92\n",
       "0.01      107\n",
       "0.03      130\n",
       "0.04      139\n",
       "0.05      140\n",
       "        ...  \n",
       "1.20    17823\n",
       "1.10    18263\n",
       "0.80    18449\n",
       "0.90    18915\n",
       "1.00    21815\n",
       "Name: trip_distance, Length: 200, dtype: int64"
      ]
     },
     "execution_count": 29,
     "metadata": {},
     "output_type": "execute_result"
    }
   ],
   "source": [
    "# Sort value freqencies to find the most common value\n",
    "data2['trip_distance'].value_counts().sort_values()"
   ]
  },
  {
   "cell_type": "code",
   "execution_count": 30,
   "metadata": {},
   "outputs": [],
   "source": [
    "# From sorting analysis, 1.00 is the most common trip_distance"
   ]
  },
  {
   "cell_type": "markdown",
   "metadata": {},
   "source": [
    "## Second part analysis is based on nyc_fare.csv"
   ]
  },
  {
   "cell_type": "code",
   "execution_count": 31,
   "metadata": {},
   "outputs": [],
   "source": [
    "# Data path.\n",
    "data_filename = r\"C:\\Users\\sheng\\OneDrive\\Desktop\\nyc_fare.csv\""
   ]
  },
  {
   "cell_type": "code",
   "execution_count": 32,
   "metadata": {},
   "outputs": [],
   "source": [
    "# Read dataset\n",
    "df = pd.read_csv(data_filename, parse_dates=['pickup_datetime'] )"
   ]
  },
  {
   "cell_type": "code",
   "execution_count": 33,
   "metadata": {},
   "outputs": [
    {
     "data": {
      "text/html": [
       "<div>\n",
       "<style scoped>\n",
       "    .dataframe tbody tr th:only-of-type {\n",
       "        vertical-align: middle;\n",
       "    }\n",
       "\n",
       "    .dataframe tbody tr th {\n",
       "        vertical-align: top;\n",
       "    }\n",
       "\n",
       "    .dataframe thead th {\n",
       "        text-align: right;\n",
       "    }\n",
       "</style>\n",
       "<table border=\"1\" class=\"dataframe\">\n",
       "  <thead>\n",
       "    <tr style=\"text-align: right;\">\n",
       "      <th></th>\n",
       "      <th>medallion</th>\n",
       "      <th>hack_license</th>\n",
       "      <th>vendor_id</th>\n",
       "      <th>pickup_datetime</th>\n",
       "      <th>payment_type</th>\n",
       "      <th>fare_amount</th>\n",
       "      <th>surcharge</th>\n",
       "      <th>mta_tax</th>\n",
       "      <th>tip_amount</th>\n",
       "      <th>tolls_amount</th>\n",
       "      <th>total_amount</th>\n",
       "    </tr>\n",
       "  </thead>\n",
       "  <tbody>\n",
       "    <tr>\n",
       "      <td>0</td>\n",
       "      <td>76942C3205E17D7E7FE5A9F709D16434</td>\n",
       "      <td>25BA06A87905667AA1FE5990E33F0E2E</td>\n",
       "      <td>VTS</td>\n",
       "      <td>2013-01-01 00:00:00</td>\n",
       "      <td>CSH</td>\n",
       "      <td>5.0</td>\n",
       "      <td>0.5</td>\n",
       "      <td>0.5</td>\n",
       "      <td>0.0</td>\n",
       "      <td>0.0</td>\n",
       "      <td>6.0</td>\n",
       "    </tr>\n",
       "    <tr>\n",
       "      <td>1</td>\n",
       "      <td>517C6B330DBB3F055D007B07512628B3</td>\n",
       "      <td>2C19FBEE1A6E05612EFE4C958C14BC7F</td>\n",
       "      <td>VTS</td>\n",
       "      <td>2013-01-01 00:05:00</td>\n",
       "      <td>CRD</td>\n",
       "      <td>13.5</td>\n",
       "      <td>0.5</td>\n",
       "      <td>0.5</td>\n",
       "      <td>2.8</td>\n",
       "      <td>0.0</td>\n",
       "      <td>17.3</td>\n",
       "    </tr>\n",
       "    <tr>\n",
       "      <td>2</td>\n",
       "      <td>ED15611F168E41B33619C83D900FE266</td>\n",
       "      <td>754AEBD7C80DA17BA1D81D89FB6F4D1D</td>\n",
       "      <td>CMT</td>\n",
       "      <td>2013-01-01 00:05:00</td>\n",
       "      <td>CSH</td>\n",
       "      <td>7.5</td>\n",
       "      <td>0.5</td>\n",
       "      <td>0.5</td>\n",
       "      <td>0.0</td>\n",
       "      <td>0.0</td>\n",
       "      <td>8.5</td>\n",
       "    </tr>\n",
       "    <tr>\n",
       "      <td>3</td>\n",
       "      <td>B33E704CC189E80C9671230C16527BBC</td>\n",
       "      <td>6789C77E1CBDC850C450D72204702976</td>\n",
       "      <td>VTS</td>\n",
       "      <td>2013-01-01 00:06:00</td>\n",
       "      <td>CSH</td>\n",
       "      <td>2.5</td>\n",
       "      <td>0.5</td>\n",
       "      <td>0.5</td>\n",
       "      <td>0.0</td>\n",
       "      <td>0.0</td>\n",
       "      <td>3.5</td>\n",
       "    </tr>\n",
       "    <tr>\n",
       "      <td>4</td>\n",
       "      <td>BD5CC6A22D05EB2D5C8235526A2A4276</td>\n",
       "      <td>5E8F2C93B5220A922699FEBAFC2F7A54</td>\n",
       "      <td>VTS</td>\n",
       "      <td>2013-01-01 00:06:00</td>\n",
       "      <td>CSH</td>\n",
       "      <td>6.5</td>\n",
       "      <td>0.5</td>\n",
       "      <td>0.5</td>\n",
       "      <td>0.0</td>\n",
       "      <td>0.0</td>\n",
       "      <td>7.5</td>\n",
       "    </tr>\n",
       "  </tbody>\n",
       "</table>\n",
       "</div>"
      ],
      "text/plain": [
       "                          medallion                      hack_license  \\\n",
       "0  76942C3205E17D7E7FE5A9F709D16434  25BA06A87905667AA1FE5990E33F0E2E   \n",
       "1  517C6B330DBB3F055D007B07512628B3  2C19FBEE1A6E05612EFE4C958C14BC7F   \n",
       "2  ED15611F168E41B33619C83D900FE266  754AEBD7C80DA17BA1D81D89FB6F4D1D   \n",
       "3  B33E704CC189E80C9671230C16527BBC  6789C77E1CBDC850C450D72204702976   \n",
       "4  BD5CC6A22D05EB2D5C8235526A2A4276  5E8F2C93B5220A922699FEBAFC2F7A54   \n",
       "\n",
       "  vendor_id     pickup_datetime payment_type  fare_amount  surcharge  mta_tax  \\\n",
       "0       VTS 2013-01-01 00:00:00          CSH          5.0        0.5      0.5   \n",
       "1       VTS 2013-01-01 00:05:00          CRD         13.5        0.5      0.5   \n",
       "2       CMT 2013-01-01 00:05:00          CSH          7.5        0.5      0.5   \n",
       "3       VTS 2013-01-01 00:06:00          CSH          2.5        0.5      0.5   \n",
       "4       VTS 2013-01-01 00:06:00          CSH          6.5        0.5      0.5   \n",
       "\n",
       "   tip_amount  tolls_amount  total_amount  \n",
       "0         0.0           0.0           6.0  \n",
       "1         2.8           0.0          17.3  \n",
       "2         0.0           0.0           8.5  \n",
       "3         0.0           0.0           3.5  \n",
       "4         0.0           0.0           7.5  "
      ]
     },
     "execution_count": 33,
     "metadata": {},
     "output_type": "execute_result"
    }
   ],
   "source": [
    "df.head()"
   ]
  },
  {
   "cell_type": "markdown",
   "metadata": {},
   "source": [
    "## Data type, name and frequencies"
   ]
  },
  {
   "cell_type": "code",
   "execution_count": 34,
   "metadata": {},
   "outputs": [
    {
     "data": {
      "text/plain": [
       "['medallion',\n",
       " 'hack_license',\n",
       " 'vendor_id',\n",
       " 'pickup_datetime',\n",
       " 'payment_type',\n",
       " 'fare_amount',\n",
       " 'surcharge',\n",
       " 'mta_tax',\n",
       " 'tip_amount',\n",
       " 'tolls_amount',\n",
       " 'total_amount']"
      ]
     },
     "execution_count": 34,
     "metadata": {},
     "output_type": "execute_result"
    }
   ],
   "source": [
    "# Display column names\n",
    "list(df.columns.values)"
   ]
  },
  {
   "cell_type": "code",
   "execution_count": 35,
   "metadata": {},
   "outputs": [
    {
     "data": {
      "text/plain": [
       "846945"
      ]
     },
     "execution_count": 35,
     "metadata": {},
     "output_type": "execute_result"
    }
   ],
   "source": [
    "# Display number of rows\n",
    "count_row = df.shape[0] \n",
    "count_row"
   ]
  },
  {
   "cell_type": "code",
   "execution_count": 36,
   "metadata": {},
   "outputs": [
    {
     "name": "stdout",
     "output_type": "stream",
     "text": [
      "medallion                  object\n",
      "hack_license               object\n",
      "vendor_id                  object\n",
      "pickup_datetime    datetime64[ns]\n",
      "payment_type               object\n",
      "fare_amount               float64\n",
      "surcharge                 float64\n",
      "mta_tax                   float64\n",
      "tip_amount                float64\n",
      "tolls_amount              float64\n",
      "total_amount              float64\n",
      "dtype: object\n"
     ]
    }
   ],
   "source": [
    "# Display data type for each variable\n",
    "print(df.dtypes)"
   ]
  },
  {
   "cell_type": "code",
   "execution_count": 37,
   "metadata": {},
   "outputs": [
    {
     "data": {
      "text/plain": [
       "03173DD93C1171DA1788E6E7D733C5A9    97\n",
       "23DF80C977D15141F11DD713C523C311    88\n",
       "51C1BE97280A80EBFA8DAD34E1956CF6    78\n",
       "3D757E111C78F5CAC83D44A92885D490    78\n",
       "19B3F3F825E4C1DE13B9D5C0628F5001    77\n",
       "                                    ..\n",
       "236BB4C8D951D35BA041D86774AC1BD1     1\n",
       "C01D892AAFF7642EC4AD094D18AF8805     1\n",
       "5559ACA39EB3C37E449731790E37AED7     1\n",
       "9D3EF01E386FA4FBC332F1AE803FDE07     1\n",
       "20DE61E8208E5C7BDC13F4C79D2A4434     1\n",
       "Name: hack_license, Length: 38391, dtype: int64"
      ]
     },
     "execution_count": 37,
     "metadata": {},
     "output_type": "execute_result"
    }
   ],
   "source": [
    "# Display object variable frequencies for variable 'hack_license'\n",
    "df['hack_license'].value_counts()"
   ]
  },
  {
   "cell_type": "code",
   "execution_count": 38,
   "metadata": {},
   "outputs": [
    {
     "data": {
      "text/plain": [
       "CRD    456019\n",
       "CSH    387455\n",
       "NOC      1921\n",
       "UNK       984\n",
       "DIS       566\n",
       "Name: payment_type, dtype: int64"
      ]
     },
     "execution_count": 38,
     "metadata": {},
     "output_type": "execute_result"
    }
   ],
   "source": [
    "# Display object variable frequencies for variable 'payment_type'\n",
    "df['payment_type'].value_counts()"
   ]
  },
  {
   "cell_type": "code",
   "execution_count": 39,
   "metadata": {},
   "outputs": [
    {
     "data": {
      "text/plain": [
       "count    846945.00\n",
       "mean         12.19\n",
       "std           9.51\n",
       "min        -648.42\n",
       "25%           6.50\n",
       "50%           9.50\n",
       "75%          14.00\n",
       "max         620.01\n",
       "Name: fare_amount, dtype: object"
      ]
     },
     "execution_count": 39,
     "metadata": {},
     "output_type": "execute_result"
    }
   ],
   "source": [
    "# Apply lambda function to explore numeric statistics for variable 'fare_amount'\n",
    "df['fare_amount'].describe().apply(lambda x: format(x, '.2f'))"
   ]
  },
  {
   "cell_type": "code",
   "execution_count": 40,
   "metadata": {},
   "outputs": [
    {
     "data": {
      "text/plain": [
       "count    846945.00\n",
       "mean          0.32\n",
       "std           0.77\n",
       "min          -1.00\n",
       "25%           0.00\n",
       "50%           0.00\n",
       "75%           0.50\n",
       "max         628.84\n",
       "Name: surcharge, dtype: object"
      ]
     },
     "execution_count": 40,
     "metadata": {},
     "output_type": "execute_result"
    }
   ],
   "source": [
    "# Apply lambda function to explore numeric statistics for variable 'surcharge'\n",
    "df['surcharge'].describe().apply(lambda x: format(x, '.2f'))"
   ]
  },
  {
   "cell_type": "code",
   "execution_count": 41,
   "metadata": {},
   "outputs": [
    {
     "data": {
      "text/plain": [
       "count    846945.00\n",
       "mean          0.50\n",
       "std           0.06\n",
       "min          -0.50\n",
       "25%           0.50\n",
       "50%           0.50\n",
       "75%           0.50\n",
       "max          41.49\n",
       "Name: mta_tax, dtype: object"
      ]
     },
     "execution_count": 41,
     "metadata": {},
     "output_type": "execute_result"
    }
   ],
   "source": [
    "# Apply lambda function to explore numeric statistics for variable 'mta_tax'\n",
    "df['mta_tax'].describe().apply(lambda x: format(x, '.2f'))"
   ]
  },
  {
   "cell_type": "code",
   "execution_count": 42,
   "metadata": {},
   "outputs": [
    {
     "data": {
      "text/plain": [
       "count    846945.00\n",
       "mean          1.34\n",
       "std           2.09\n",
       "min           0.00\n",
       "25%           0.00\n",
       "50%           1.00\n",
       "75%           2.00\n",
       "max         200.00\n",
       "Name: tip_amount, dtype: object"
      ]
     },
     "execution_count": 42,
     "metadata": {},
     "output_type": "execute_result"
    }
   ],
   "source": [
    "# Apply lambda function to explore numeric statistics for variable 'tip_amount '\n",
    "df['tip_amount'].describe().apply(lambda x: format(x, '.2f'))"
   ]
  },
  {
   "cell_type": "code",
   "execution_count": 43,
   "metadata": {},
   "outputs": [
    {
     "data": {
      "text/plain": [
       "count    846945.00\n",
       "mean         14.59\n",
       "std          11.38\n",
       "min         -52.50\n",
       "25%           8.00\n",
       "50%          11.00\n",
       "75%          16.50\n",
       "max         620.01\n",
       "Name: total_amount, dtype: object"
      ]
     },
     "execution_count": 43,
     "metadata": {},
     "output_type": "execute_result"
    }
   ],
   "source": [
    "# Apply lambda function to explore numeric statistics for variable 'total_amount'\n",
    "df['total_amount'].describe().apply(lambda x: format(x, '.2f'))"
   ]
  },
  {
   "cell_type": "markdown",
   "metadata": {},
   "source": [
    "## Display a histogram of the fare total amounts."
   ]
  },
  {
   "cell_type": "code",
   "execution_count": 44,
   "metadata": {},
   "outputs": [
    {
     "data": {
      "text/plain": [
       "array([ 0.        ,  0.80808081,  1.61616162,  2.42424242,  3.23232323,\n",
       "        4.04040404,  4.84848485,  5.65656566,  6.46464646,  7.27272727,\n",
       "        8.08080808,  8.88888889,  9.6969697 , 10.50505051, 11.31313131,\n",
       "       12.12121212, 12.92929293, 13.73737374, 14.54545455, 15.35353535,\n",
       "       16.16161616, 16.96969697, 17.77777778, 18.58585859, 19.39393939,\n",
       "       20.2020202 , 21.01010101, 21.81818182, 22.62626263, 23.43434343,\n",
       "       24.24242424, 25.05050505, 25.85858586, 26.66666667, 27.47474747,\n",
       "       28.28282828, 29.09090909, 29.8989899 , 30.70707071, 31.51515152,\n",
       "       32.32323232, 33.13131313, 33.93939394, 34.74747475, 35.55555556,\n",
       "       36.36363636, 37.17171717, 37.97979798, 38.78787879, 39.5959596 ,\n",
       "       40.4040404 , 41.21212121, 42.02020202, 42.82828283, 43.63636364,\n",
       "       44.44444444, 45.25252525, 46.06060606, 46.86868687, 47.67676768,\n",
       "       48.48484848, 49.29292929, 50.1010101 , 50.90909091, 51.71717172,\n",
       "       52.52525253, 53.33333333, 54.14141414, 54.94949495, 55.75757576,\n",
       "       56.56565657, 57.37373737, 58.18181818, 58.98989899, 59.7979798 ,\n",
       "       60.60606061, 61.41414141, 62.22222222, 63.03030303, 63.83838384,\n",
       "       64.64646465, 65.45454545, 66.26262626, 67.07070707, 67.87878788,\n",
       "       68.68686869, 69.49494949, 70.3030303 , 71.11111111, 71.91919192,\n",
       "       72.72727273, 73.53535354, 74.34343434, 75.15151515, 75.95959596,\n",
       "       76.76767677, 77.57575758, 78.38383838, 79.19191919, 80.        ])"
      ]
     },
     "execution_count": 44,
     "metadata": {},
     "output_type": "execute_result"
    }
   ],
   "source": [
    "# From lambda analysis, the majority amount of total fare is under 80, so bin_array set from 0-80, though there is some \n",
    "# negative amount, but from common sense, the fare amount should be positive in major conditions.\n",
    "bin_array1 = np.linspace(start=0., stop=80., num=100)\n",
    "bin_array1"
   ]
  },
  {
   "cell_type": "code",
   "execution_count": 45,
   "metadata": {},
   "outputs": [
    {
     "data": {
      "text/plain": [
       "<matplotlib.axes._subplots.AxesSubplot at 0x19ec94547c8>"
      ]
     },
     "execution_count": 45,
     "metadata": {},
     "output_type": "execute_result"
    },
    {
     "data": {
      "image/png": "[encoded data removed]",
      "text/plain": [
       "<Figure size 432x288 with 1 Axes>"
      ]
     },
     "metadata": {
      "needs_background": "light"
     },
     "output_type": "display_data"
    }
   ],
   "source": [
    "df.total_amount.hist(bins=bin_array1)"
   ]
  },
  {
   "cell_type": "code",
   "execution_count": 46,
   "metadata": {},
   "outputs": [
    {
     "data": {
      "text/plain": [
       "582415"
      ]
     },
     "execution_count": 46,
     "metadata": {},
     "output_type": "execute_result"
    }
   ],
   "source": [
    "# Extract data from 5-10 to analyze main histogram mass\n",
    "bin_array2 = np.linspace(start=4., stop=16., num=100)\n",
    "df2=df[['total_amount']][(df['total_amount']>=5)&(df['total_amount']<=15)]\n",
    "len(df2)"
   ]
  },
  {
   "cell_type": "code",
   "execution_count": 47,
   "metadata": {},
   "outputs": [
    {
     "data": {
      "text/plain": [
       "<matplotlib.axes._subplots.AxesSubplot at 0x19ec2f9d708>"
      ]
     },
     "execution_count": 47,
     "metadata": {},
     "output_type": "execute_result"
    },
    {
     "data": {
      "image/png": "[encoded data removed]",
      "text/plain": [
       "<Figure size 432x288 with 1 Axes>"
      ]
     },
     "metadata": {
      "needs_background": "light"
     },
     "output_type": "display_data"
    }
   ],
   "source": [
    "df2.total_amount.hist(bins=bin_array2)"
   ]
  },
  {
   "cell_type": "code",
   "execution_count": 48,
   "metadata": {},
   "outputs": [
    {
     "data": {
      "text/plain": [
       "36.23         1\n",
       "40.01         1\n",
       "10.06         1\n",
       "125.62        1\n",
       "35.13         1\n",
       "          ...  \n",
       "7.50      27494\n",
       "7.00      27764\n",
       "8.00      28752\n",
       "6.50      28883\n",
       "9.00      30209\n",
       "Name: total_amount, Length: 3859, dtype: int64"
      ]
     },
     "execution_count": 48,
     "metadata": {},
     "output_type": "execute_result"
    }
   ],
   "source": [
    "# Sort value freqencies to find the most common value\n",
    "df['total_amount'].value_counts().sort_values()"
   ]
  },
  {
   "cell_type": "code",
   "execution_count": 49,
   "metadata": {},
   "outputs": [],
   "source": [
    "# The max value of fare amount is 620.01, but mean value is 14.59. From freqency chart, 6-10 is the range that most\n",
    "# fare amount locate in, and from sorting result, we can derive same conclusion, 9.00, 6.50, 8.00, 7.50 and 7.00\n",
    "# have higher frequency, and those amount all from range 6-10. The reason why mean value is 14.59, which is bigger\n",
    "# than major range is because the distribution of total amount histogram obey Positive Skew, which is a statistical\n",
    "# term. That is to say, the total amount of frequency of (fare value > 10) is bigger than that of (fare value < 5)."
   ]
  },
  {
   "cell_type": "markdown",
   "metadata": {},
   "source": [
    "## Filtering with boolean indexing\n",
    "### Select long rides"
   ]
  },
  {
   "cell_type": "code",
   "execution_count": 50,
   "metadata": {},
   "outputs": [
    {
     "data": {
      "text/plain": [
       "4"
      ]
     },
     "execution_count": 50,
     "metadata": {},
     "output_type": "execute_result"
    }
   ],
   "source": [
    "# Extract data >100 \n",
    "unusual=data[['trip_distance']][(data['trip_distance']>100)]\n",
    "len(unusual)"
   ]
  },
  {
   "cell_type": "code",
   "execution_count": 51,
   "metadata": {},
   "outputs": [
    {
     "name": "stdout",
     "output_type": "stream",
     "text": [
      "        trip_distance\n",
      "504497      6005123.0\n",
      "507107          181.8\n",
      "548988          442.0\n",
      "558665          164.4\n"
     ]
    }
   ],
   "source": [
    "print(unusual)"
   ]
  },
  {
   "cell_type": "code",
   "execution_count": 52,
   "metadata": {},
   "outputs": [],
   "source": [
    "# By filtering trip_distance>100, there are 4 trips."
   ]
  },
  {
   "cell_type": "code",
   "execution_count": 53,
   "metadata": {},
   "outputs": [],
   "source": [
    "#End"
   ]
  }
 ],
 "metadata": {
  "kernelspec": {
   "display_name": "Python 3",
   "language": "python",
   "name": "python3"
  },
  "language_info": {
   "codemirror_mode": {
    "name": "ipython",
    "version": 3
   },
   "file_extension": ".py",
   "mimetype": "text/x-python",
   "name": "python",
   "nbconvert_exporter": "python",
   "pygments_lexer": "ipython3",
   "version": "3.8.5"
  }
 },
 "nbformat": 4,
 "nbformat_minor": 2
}
